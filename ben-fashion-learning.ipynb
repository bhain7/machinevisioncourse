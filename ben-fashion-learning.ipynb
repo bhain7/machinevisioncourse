{
 "cells": [
  {
   "cell_type": "code",
   "execution_count": 1,
   "id": "c89b19c7",
   "metadata": {
    "_cell_guid": "b1076dfc-b9ad-4769-8c92-a6c4dae69d19",
    "_uuid": "8f2839f25d086af736a60e9eeb907d3b93b6e0e5",
    "execution": {
     "iopub.execute_input": "2022-04-06T23:45:30.643967Z",
     "iopub.status.busy": "2022-04-06T23:45:30.642773Z",
     "iopub.status.idle": "2022-04-06T23:45:43.621927Z",
     "shell.execute_reply": "2022-04-06T23:45:43.622650Z",
     "shell.execute_reply.started": "2022-04-06T23:33:36.159241Z"
    },
    "papermill": {
     "duration": 12.995621,
     "end_time": "2022-04-06T23:45:43.622942",
     "exception": false,
     "start_time": "2022-04-06T23:45:30.627321",
     "status": "completed"
    },
    "tags": []
   },
   "outputs": [],
   "source": [
    "#Load dependencies\n",
    "import numpy as np \n",
    "import pandas as pd \n",
    "import csv\n",
    "import string\n",
    "import pandas as pd\n",
    "import numpy as np\n",
    "import tensorflow as tf\n",
    "import matplotlib.pyplot as plt\n",
    "from tensorflow.keras.preprocessing.image import ImageDataGenerator, array_to_img\n",
    "\n",
    "from keras.datasets import mnist\n",
    "from keras.models import Sequential\n",
    "from keras.layers import Dense, Dropout, Conv2D, MaxPool2D, Flatten\n",
    "from keras.utils import np_utils\n",
    "\n",
    "train_df = pd.read_csv(\"../input/fashionmnist/fashion-mnist_train.csv\")\n",
    "test_df = pd.read_csv(\"../input/fashionmnist/fashion-mnist_test.csv\")"
   ]
  },
  {
   "cell_type": "code",
   "execution_count": 2,
   "id": "dab4f343",
   "metadata": {
    "execution": {
     "iopub.execute_input": "2022-04-06T23:45:43.649109Z",
     "iopub.status.busy": "2022-04-06T23:45:43.648105Z",
     "iopub.status.idle": "2022-04-06T23:45:43.933538Z",
     "shell.execute_reply": "2022-04-06T23:45:43.932646Z",
     "shell.execute_reply.started": "2022-04-06T23:33:46.938858Z"
    },
    "papermill": {
     "duration": 0.299636,
     "end_time": "2022-04-06T23:45:43.933725",
     "exception": false,
     "start_time": "2022-04-06T23:45:43.634089",
     "status": "completed"
    },
    "tags": []
   },
   "outputs": [
    {
     "name": "stdout",
     "output_type": "stream",
     "text": [
      "x_train shape:  (60000, 784)\n",
      "test shape:  (10000, 784)\n",
      "x_train shape:  (60000, 28, 28, 1)\n",
      "test shape:  (10000, 28, 28, 1)\n",
      "Shape before one-hot encoding:  (60000,)\n",
      "Shape after one-hot encoding:  (60000,)\n"
     ]
    }
   ],
   "source": [
    "#Set up training data\n",
    "x_train = train_df.drop(labels = [\"label\"],axis = 1) \n",
    "y_train = train_df['label']\n",
    "\n",
    "x_test = test_df.drop(labels = [\"label\"],axis = 1) \n",
    "y_test = test_df['label']\n",
    "\n",
    "\n",
    "x_train_unscaled = x_train\n",
    "x_test_unscaled = x_test\n",
    "\n",
    "\n",
    "# Normalize the data\n",
    "x_train = x_train / 255.0\n",
    "x_test = x_test / 255.0\n",
    "\n",
    "print(\"x_train shape: \",x_train.shape)\n",
    "print(\"test shape: \",x_test.shape)\n",
    "\n",
    "\n",
    "x_train_raw = x_train\n",
    "x_test_raw = x_test\n",
    "\n",
    "#Neural network versions of the data\n",
    "#Reshaped for neural net algorithms\n",
    "image_rows = 28\n",
    "image_cols = 28\n",
    "image_shape = (image_rows,image_cols,1) \n",
    "xn_train = x_train.values.reshape(x_train.shape[0],*image_shape)\n",
    "xn_test = x_test.values.reshape(x_test.shape[0],*image_shape)\n",
    "\n",
    "print(\"x_train shape: \",xn_train.shape)\n",
    "print(\"test shape: \",xn_test.shape)\n",
    "\n",
    "\n",
    "# one-hot encoding using keras' numpy-related utilities\n",
    "n_classes = 10\n",
    "print(\"Shape before one-hot encoding: \", y_train.shape)\n",
    "yn_train = np_utils.to_categorical(y_train, n_classes)\n",
    "yn_test = np_utils.to_categorical(y_test, n_classes)\n",
    "print(\"Shape after one-hot encoding: \", y_train.shape)\n",
    "\n"
   ]
  },
  {
   "cell_type": "code",
   "execution_count": 3,
   "id": "818bd2fb",
   "metadata": {
    "execution": {
     "iopub.execute_input": "2022-04-06T23:45:43.963745Z",
     "iopub.status.busy": "2022-04-06T23:45:43.962939Z",
     "iopub.status.idle": "2022-04-06T23:45:46.108879Z",
     "shell.execute_reply": "2022-04-06T23:45:46.109583Z",
     "shell.execute_reply.started": "2022-04-06T23:33:47.175648Z"
    },
    "papermill": {
     "duration": 2.163373,
     "end_time": "2022-04-06T23:45:46.109819",
     "exception": false,
     "start_time": "2022-04-06T23:45:43.946446",
     "status": "completed"
    },
    "tags": []
   },
   "outputs": [
    {
     "name": "stdout",
     "output_type": "stream",
     "text": [
      "Model accuracy score: 0.5914\n"
     ]
    }
   ],
   "source": [
    "# train a Gaussian Naive Bayes classifier on the training set\n",
    "from sklearn.naive_bayes import GaussianNB\n",
    "\n",
    "# instantiate the model\n",
    "gnb = GaussianNB()\n",
    "\n",
    "# fit the model\n",
    "gnb.fit(x_train_raw, y_train)\n",
    "\n",
    "y_pred = gnb.predict(x_test_raw)\n",
    "\n",
    "from sklearn.metrics import accuracy_score\n",
    "print('Model accuracy score: {0:0.4f}'. format(accuracy_score(y_test, y_pred)))\n",
    "\n",
    "#Results of Naive Bayes are poor, so running kNearestNeighbors"
   ]
  },
  {
   "cell_type": "code",
   "execution_count": 4,
   "id": "abd8b735",
   "metadata": {
    "execution": {
     "iopub.execute_input": "2022-04-06T23:45:46.140903Z",
     "iopub.status.busy": "2022-04-06T23:45:46.140129Z",
     "iopub.status.idle": "2022-04-06T23:46:13.093452Z",
     "shell.execute_reply": "2022-04-06T23:46:13.094175Z",
     "shell.execute_reply.started": "2022-04-06T23:33:49.037854Z"
    },
    "papermill": {
     "duration": 26.971836,
     "end_time": "2022-04-06T23:46:13.094609",
     "exception": false,
     "start_time": "2022-04-06T23:45:46.122773",
     "status": "completed"
    },
    "tags": []
   },
   "outputs": [
    {
     "name": "stdout",
     "output_type": "stream",
     "text": [
      "Model accuracy score: 0.8584\n"
     ]
    }
   ],
   "source": [
    "#Nearest neighbors\n",
    "from sklearn.neighbors import KNeighborsClassifier\n",
    "neigh = KNeighborsClassifier(n_neighbors=3)\n",
    "neigh.fit(x_train_raw,y_train)\n",
    "\n",
    "y_pred = neigh.predict(x_test_raw)\n",
    "print('Model accuracy score: {0:0.4f}'. format(accuracy_score(y_test, y_pred)))\n"
   ]
  },
  {
   "cell_type": "code",
   "execution_count": 5,
   "id": "4e8a3826",
   "metadata": {
    "execution": {
     "iopub.execute_input": "2022-04-06T23:46:13.140004Z",
     "iopub.status.busy": "2022-04-06T23:46:13.139329Z",
     "iopub.status.idle": "2022-04-06T23:46:37.668165Z",
     "shell.execute_reply": "2022-04-06T23:46:37.668666Z",
     "shell.execute_reply.started": "2022-04-06T23:34:14.803825Z"
    },
    "papermill": {
     "duration": 24.560056,
     "end_time": "2022-04-06T23:46:37.668844",
     "exception": false,
     "start_time": "2022-04-06T23:46:13.108788",
     "status": "completed"
    },
    "tags": []
   },
   "outputs": [
    {
     "name": "stdout",
     "output_type": "stream",
     "text": [
      "Model accuracy score: 0.8584\n"
     ]
    }
   ],
   "source": [
    "from sklearn.neighbors import KNeighborsClassifier\n",
    "neigh = KNeighborsClassifier(n_neighbors=3)\n",
    "neigh.fit(x_train_unscaled,y_train)\n",
    "\n",
    "y_pred = neigh.predict(x_test_unscaled)\n",
    "print('Model accuracy score: {0:0.4f}'. format(accuracy_score(y_test, y_pred)))"
   ]
  },
  {
   "cell_type": "code",
   "execution_count": 6,
   "id": "dfa71cae",
   "metadata": {
    "execution": {
     "iopub.execute_input": "2022-04-06T23:46:37.700098Z",
     "iopub.status.busy": "2022-04-06T23:46:37.699474Z",
     "iopub.status.idle": "2022-04-06T23:46:38.382219Z",
     "shell.execute_reply": "2022-04-06T23:46:38.382712Z",
     "shell.execute_reply.started": "2022-04-06T23:34:39.174406Z"
    },
    "papermill": {
     "duration": 0.701051,
     "end_time": "2022-04-06T23:46:38.382882",
     "exception": false,
     "start_time": "2022-04-06T23:46:37.681831",
     "status": "completed"
    },
    "tags": []
   },
   "outputs": [
    {
     "name": "stdout",
     "output_type": "stream",
     "text": [
      "              precision    recall  f1-score   support\n",
      "\n",
      "           0     0.7483    0.8710    0.8050      1000\n",
      "           1     0.9888    0.9730    0.9808      1000\n",
      "           2     0.7358    0.8190    0.7752      1000\n",
      "           3     0.9122    0.8730    0.8922      1000\n",
      "           4     0.8139    0.7740    0.7934      1000\n",
      "           5     0.9928    0.8250    0.9011      1000\n",
      "           6     0.6810    0.5870    0.6305      1000\n",
      "           7     0.8810    0.9400    0.9095      1000\n",
      "           8     0.9805    0.9530    0.9665      1000\n",
      "           9     0.8817    0.9690    0.9233      1000\n",
      "\n",
      "    accuracy                         0.8584     10000\n",
      "   macro avg     0.8616    0.8584    0.8578     10000\n",
      "weighted avg     0.8616    0.8584    0.8578     10000\n",
      "\n"
     ]
    },
    {
     "data": {
      "image/png": "[encoded data removed]",
      "text/plain": [
       "<Figure size 432x288 with 2 Axes>"
      ]
     },
     "metadata": {
      "needs_background": "light"
     },
     "output_type": "display_data"
    }
   ],
   "source": [
    "from sklearn.metrics import classification_report, ConfusionMatrixDisplay\n",
    "\n",
    "print(classification_report(y_test, y_pred, digits = 4))\n",
    "ConfusionMatrixDisplay.from_predictions(y_test, y_pred);"
   ]
  },
  {
   "cell_type": "markdown",
   "id": "93f9d633",
   "metadata": {
    "execution": {
     "iopub.execute_input": "2022-04-06T20:01:19.938452Z",
     "iopub.status.busy": "2022-04-06T20:01:19.937703Z",
     "iopub.status.idle": "2022-04-06T20:01:19.949071Z",
     "shell.execute_reply": "2022-04-06T20:01:19.948431Z",
     "shell.execute_reply.started": "2022-04-06T20:01:19.938417Z"
    },
    "papermill": {
     "duration": 0.013967,
     "end_time": "2022-04-06T23:46:38.411293",
     "exception": false,
     "start_time": "2022-04-06T23:46:38.397326",
     "status": "completed"
    },
    "tags": []
   },
   "source": [
    "Labels\n",
    "\n",
    "Each training and test example is assigned to one of the following labels:\n",
    "\n",
    "0 T-shirt/top\n",
    "1 Trouser\n",
    "2 Pullover\n",
    "3 Dress\n",
    "4 Coat\n",
    "5 Sandal\n",
    "6 Shirt\n",
    "7 Sneaker\n",
    "8 Bag\n",
    "9 Ankle boot"
   ]
  },
  {
   "cell_type": "code",
   "execution_count": 7,
   "id": "b3b82f94",
   "metadata": {
    "execution": {
     "iopub.execute_input": "2022-04-06T23:46:38.446788Z",
     "iopub.status.busy": "2022-04-06T23:46:38.446156Z",
     "iopub.status.idle": "2022-04-06T23:47:36.446830Z",
     "shell.execute_reply": "2022-04-06T23:47:36.447366Z",
     "shell.execute_reply.started": "2022-04-06T23:34:39.880100Z"
    },
    "papermill": {
     "duration": 58.022144,
     "end_time": "2022-04-06T23:47:36.447554",
     "exception": false,
     "start_time": "2022-04-06T23:46:38.425410",
     "status": "completed"
    },
    "tags": []
   },
   "outputs": [
    {
     "name": "stderr",
     "output_type": "stream",
     "text": [
      "2022-04-06 23:46:38.493006: I tensorflow/core/common_runtime/process_util.cc:146] Creating new thread pool with default inter op setting: 2. Tune using inter_op_parallelism_threads for best performance.\n"
     ]
    },
    {
     "name": "stdout",
     "output_type": "stream",
     "text": [
      "Model: \"sequential\"\n",
      "_________________________________________________________________\n",
      "Layer (type)                 Output Shape              Param #   \n",
      "=================================================================\n",
      "dense (Dense)                (None, 100)               78500     \n",
      "_________________________________________________________________\n",
      "dense_1 (Dense)              (None, 10)                1010      \n",
      "=================================================================\n",
      "Total params: 79,510\n",
      "Trainable params: 79,510\n",
      "Non-trainable params: 0\n",
      "_________________________________________________________________\n"
     ]
    },
    {
     "name": "stderr",
     "output_type": "stream",
     "text": [
      "2022-04-06 23:46:39.536160: I tensorflow/compiler/mlir/mlir_graph_optimization_pass.cc:185] None of the MLIR Optimization Passes are enabled (registered 2)\n"
     ]
    },
    {
     "name": "stdout",
     "output_type": "stream",
     "text": [
      "Epoch 1/40\n",
      "469/469 [==============================] - 2s 4ms/step - loss: 0.5702 - accuracy: 0.8044 - val_loss: 0.4383 - val_accuracy: 0.8481\n",
      "Epoch 2/40\n",
      "469/469 [==============================] - 1s 3ms/step - loss: 0.4139 - accuracy: 0.8561 - val_loss: 0.3984 - val_accuracy: 0.8631\n",
      "Epoch 3/40\n",
      "469/469 [==============================] - 1s 3ms/step - loss: 0.3795 - accuracy: 0.8660 - val_loss: 0.3701 - val_accuracy: 0.8726\n",
      "Epoch 4/40\n",
      "469/469 [==============================] - 1s 3ms/step - loss: 0.3519 - accuracy: 0.8745 - val_loss: 0.3718 - val_accuracy: 0.8670\n",
      "Epoch 5/40\n",
      "469/469 [==============================] - 1s 3ms/step - loss: 0.3326 - accuracy: 0.8808 - val_loss: 0.3551 - val_accuracy: 0.8738\n",
      "Epoch 6/40\n",
      "469/469 [==============================] - 1s 3ms/step - loss: 0.3164 - accuracy: 0.8871 - val_loss: 0.3565 - val_accuracy: 0.8700\n",
      "Epoch 7/40\n",
      "469/469 [==============================] - 1s 3ms/step - loss: 0.3054 - accuracy: 0.8885 - val_loss: 0.3238 - val_accuracy: 0.8843\n",
      "Epoch 8/40\n",
      "469/469 [==============================] - 1s 3ms/step - loss: 0.2926 - accuracy: 0.8926 - val_loss: 0.3256 - val_accuracy: 0.8822\n",
      "Epoch 9/40\n",
      "469/469 [==============================] - 1s 3ms/step - loss: 0.2826 - accuracy: 0.8977 - val_loss: 0.3227 - val_accuracy: 0.8824\n",
      "Epoch 10/40\n",
      "469/469 [==============================] - 1s 3ms/step - loss: 0.2751 - accuracy: 0.9003 - val_loss: 0.3142 - val_accuracy: 0.8872\n",
      "Epoch 11/40\n",
      "469/469 [==============================] - 1s 3ms/step - loss: 0.2661 - accuracy: 0.9024 - val_loss: 0.3071 - val_accuracy: 0.8881\n",
      "Epoch 12/40\n",
      "469/469 [==============================] - 1s 3ms/step - loss: 0.2619 - accuracy: 0.9046 - val_loss: 0.3055 - val_accuracy: 0.8901\n",
      "Epoch 13/40\n",
      "469/469 [==============================] - 1s 3ms/step - loss: 0.2517 - accuracy: 0.9080 - val_loss: 0.3024 - val_accuracy: 0.8928\n",
      "Epoch 14/40\n",
      "469/469 [==============================] - 1s 3ms/step - loss: 0.2456 - accuracy: 0.9104 - val_loss: 0.3046 - val_accuracy: 0.8905\n",
      "Epoch 15/40\n",
      "469/469 [==============================] - 1s 3ms/step - loss: 0.2413 - accuracy: 0.9118 - val_loss: 0.3000 - val_accuracy: 0.8923\n",
      "Epoch 16/40\n",
      "469/469 [==============================] - 1s 3ms/step - loss: 0.2341 - accuracy: 0.9135 - val_loss: 0.3047 - val_accuracy: 0.8908\n",
      "Epoch 17/40\n",
      "469/469 [==============================] - 1s 3ms/step - loss: 0.2313 - accuracy: 0.9146 - val_loss: 0.3030 - val_accuracy: 0.8910\n",
      "Epoch 18/40\n",
      "469/469 [==============================] - 1s 3ms/step - loss: 0.2254 - accuracy: 0.9176 - val_loss: 0.3175 - val_accuracy: 0.8837\n",
      "Epoch 19/40\n",
      "469/469 [==============================] - 1s 3ms/step - loss: 0.2219 - accuracy: 0.9198 - val_loss: 0.2952 - val_accuracy: 0.8978\n",
      "Epoch 20/40\n",
      "469/469 [==============================] - 2s 4ms/step - loss: 0.2164 - accuracy: 0.9201 - val_loss: 0.3011 - val_accuracy: 0.8916\n",
      "Epoch 21/40\n",
      "469/469 [==============================] - 1s 3ms/step - loss: 0.2132 - accuracy: 0.9219 - val_loss: 0.3093 - val_accuracy: 0.8891\n",
      "Epoch 22/40\n",
      "469/469 [==============================] - 1s 3ms/step - loss: 0.2078 - accuracy: 0.9230 - val_loss: 0.3145 - val_accuracy: 0.8874\n",
      "Epoch 23/40\n",
      "469/469 [==============================] - 1s 3ms/step - loss: 0.2019 - accuracy: 0.9265 - val_loss: 0.3024 - val_accuracy: 0.8932\n",
      "Epoch 24/40\n",
      "469/469 [==============================] - 1s 3ms/step - loss: 0.1989 - accuracy: 0.9277 - val_loss: 0.3067 - val_accuracy: 0.8947\n",
      "Epoch 25/40\n",
      "469/469 [==============================] - 1s 3ms/step - loss: 0.1953 - accuracy: 0.9287 - val_loss: 0.3219 - val_accuracy: 0.8869\n",
      "Epoch 26/40\n",
      "469/469 [==============================] - 1s 3ms/step - loss: 0.1919 - accuracy: 0.9297 - val_loss: 0.3134 - val_accuracy: 0.8914\n",
      "Epoch 27/40\n",
      "469/469 [==============================] - 1s 3ms/step - loss: 0.1878 - accuracy: 0.9322 - val_loss: 0.3085 - val_accuracy: 0.8937\n",
      "Epoch 28/40\n",
      "469/469 [==============================] - 1s 3ms/step - loss: 0.1840 - accuracy: 0.9326 - val_loss: 0.3112 - val_accuracy: 0.8928\n",
      "Epoch 29/40\n",
      "469/469 [==============================] - 1s 3ms/step - loss: 0.1812 - accuracy: 0.9330 - val_loss: 0.3052 - val_accuracy: 0.8947\n",
      "Epoch 30/40\n",
      "469/469 [==============================] - 1s 3ms/step - loss: 0.1756 - accuracy: 0.9352 - val_loss: 0.3097 - val_accuracy: 0.8938\n",
      "Epoch 31/40\n",
      "469/469 [==============================] - 1s 3ms/step - loss: 0.1758 - accuracy: 0.9359 - val_loss: 0.3232 - val_accuracy: 0.8910\n",
      "Epoch 32/40\n",
      "469/469 [==============================] - 1s 3ms/step - loss: 0.1716 - accuracy: 0.9366 - val_loss: 0.3118 - val_accuracy: 0.8943\n",
      "Epoch 33/40\n",
      "469/469 [==============================] - 1s 3ms/step - loss: 0.1687 - accuracy: 0.9379 - val_loss: 0.3118 - val_accuracy: 0.8978\n",
      "Epoch 34/40\n",
      "469/469 [==============================] - 1s 3ms/step - loss: 0.1660 - accuracy: 0.9386 - val_loss: 0.3266 - val_accuracy: 0.8910\n",
      "Epoch 35/40\n",
      "469/469 [==============================] - 1s 3ms/step - loss: 0.1636 - accuracy: 0.9392 - val_loss: 0.3237 - val_accuracy: 0.8955\n",
      "Epoch 36/40\n",
      "469/469 [==============================] - 1s 3ms/step - loss: 0.1604 - accuracy: 0.9408 - val_loss: 0.3134 - val_accuracy: 0.8955\n",
      "Epoch 37/40\n",
      "469/469 [==============================] - 1s 3ms/step - loss: 0.1573 - accuracy: 0.9434 - val_loss: 0.3305 - val_accuracy: 0.8958\n",
      "Epoch 38/40\n",
      "469/469 [==============================] - 1s 3ms/step - loss: 0.1554 - accuracy: 0.9430 - val_loss: 0.3261 - val_accuracy: 0.8943\n",
      "Epoch 39/40\n",
      "469/469 [==============================] - 1s 3ms/step - loss: 0.1529 - accuracy: 0.9447 - val_loss: 0.3289 - val_accuracy: 0.8916\n",
      "Epoch 40/40\n",
      "469/469 [==============================] - 1s 3ms/step - loss: 0.1482 - accuracy: 0.9458 - val_loss: 0.3232 - val_accuracy: 0.8956\n"
     ]
    }
   ],
   "source": [
    "# building a linear stack of layers with the sequential model\n",
    "model = Sequential()\n",
    "# hidden layer\n",
    "model.add(Dense(100, input_shape=(784,), activation='relu'))\n",
    "# output layer\n",
    "model.add(Dense(10, activation='softmax'))\n",
    "\n",
    "# looking at the model summary\n",
    "model.summary()\n",
    "# compiling the sequential model\n",
    "model.compile(loss='categorical_crossentropy', metrics=['accuracy'], optimizer='adam')\n",
    "# training the model for 20 epochs\n",
    "nn = model.fit(x_train, yn_train, batch_size=128, epochs=40, validation_data=(x_test, yn_test))\n",
    "\n"
   ]
  },
  {
   "cell_type": "code",
   "execution_count": 8,
   "id": "88c0893d",
   "metadata": {
    "execution": {
     "iopub.execute_input": "2022-04-06T23:47:37.225208Z",
     "iopub.status.busy": "2022-04-06T23:47:37.224513Z",
     "iopub.status.idle": "2022-04-06T23:47:39.065769Z",
     "shell.execute_reply": "2022-04-06T23:47:39.066752Z",
     "shell.execute_reply.started": "2022-04-06T23:44:59.835724Z"
    },
    "papermill": {
     "duration": 2.234617,
     "end_time": "2022-04-06T23:47:39.066935",
     "exception": false,
     "start_time": "2022-04-06T23:47:36.832318",
     "status": "completed"
    },
    "tags": []
   },
   "outputs": [
    {
     "data": {
      "image/png": "[encoded data removed]",
      "text/plain": [
       "<Figure size 432x288 with 1 Axes>"
      ]
     },
     "metadata": {
      "needs_background": "light"
     },
     "output_type": "display_data"
    },
    {
     "data": {
      "image/png": "[encoded data removed]",
      "text/plain": [
       "<Figure size 432x288 with 1 Axes>"
      ]
     },
     "metadata": {
      "needs_background": "light"
     },
     "output_type": "display_data"
    },
    {
     "data": {
      "image/png": "[encoded data removed]",
      "text/plain": [
       "<Figure size 432x288 with 2 Axes>"
      ]
     },
     "metadata": {
      "needs_background": "light"
     },
     "output_type": "display_data"
    }
   ],
   "source": [
    "#Credit for this template for charting model results from classmates!\n",
    "#Thanks for your great examples!\n",
    "\n",
    "plt.plot(nn.history['accuracy'])\n",
    "plt.plot(nn.history['val_accuracy'])\n",
    "plt.title(\"Model Accuracy\")\n",
    "plt.xlabel('Epochs')\n",
    "plt.ylabel('Accuracy')\n",
    "plt.legend(['Train', 'Test'])\n",
    "plt.show()\n",
    "\n",
    "plt.plot(nn.history['loss'])\n",
    "plt.plot(nn.history['val_loss'])\n",
    "plt.title(\"Model Loss\")\n",
    "plt.xlabel('Epochs')\n",
    "plt.ylabel('Loss')\n",
    "plt.legend(['Train', 'Test'])\n",
    "plt.show()\n",
    "\n",
    "y_pred = model.predict(x_test)\n",
    "#Confusion Matrix\n",
    "y_pred_classes = np.argmax(y_pred,axis = 1) \n",
    "ConfusionMatrixDisplay.from_predictions(y_test, y_pred_classes);"
   ]
  },
  {
   "cell_type": "code",
   "execution_count": null,
   "id": "dd685ad5",
   "metadata": {
    "papermill": {
     "duration": 0.40615,
     "end_time": "2022-04-06T23:47:39.863530",
     "exception": false,
     "start_time": "2022-04-06T23:47:39.457380",
     "status": "completed"
    },
    "tags": []
   },
   "outputs": [],
   "source": []
  }
 ],
 "metadata": {
  "kernelspec": {
   "display_name": "Python 3",
   "language": "python",
   "name": "python3"
  },
  "language_info": {
   "codemirror_mode": {
    "name": "ipython",
    "version": 3
   },
   "file_extension": ".py",
   "mimetype": "text/x-python",
   "name": "python",
   "nbconvert_exporter": "python",
   "pygments_lexer": "ipython3",
   "version": "3.7.12"
  },
  "papermill": {
   "default_parameters": {},
   "duration": 142.611291,
   "end_time": "2022-04-06T23:47:43.744400",
   "environment_variables": {},
   "exception": null,
   "input_path": "__notebook__.ipynb",
   "output_path": "__notebook__.ipynb",
   "parameters": {},
   "start_time": "2022-04-06T23:45:21.133109",
   "version": "2.3.3"
  }
 },
 "nbformat": 4,
 "nbformat_minor": 5
}
